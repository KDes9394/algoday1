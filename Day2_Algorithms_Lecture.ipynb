{
 "cells": [
  {
   "cell_type": "markdown",
   "metadata": {},
   "source": [
    "# Classic Algorithms"
   ]
  },
  {
   "cell_type": "markdown",
   "metadata": {},
   "source": [
    "## Tasks Today:\n",
    " \n",
    "1) <b>In-Place Algorithms</b> <br>\n",
    " &nbsp;&nbsp;&nbsp;&nbsp; a) Syntax <br>\n",
    " &nbsp;&nbsp;&nbsp;&nbsp; a) Out of Place Algorithm <br>\n",
    " &nbsp;&nbsp;&nbsp;&nbsp; b) In-Class Exercise #1 <br>\n",
    "2) <b>Two Pointers</b> <br>\n",
    "3) <b>Sorting Algorithms</b> <br>\n",
    "4) <b>Merge Sort</b> <br>\n",
    " &nbsp;&nbsp;&nbsp;&nbsp; a) Video on Algorithms <br>\n",
    " &nbsp;&nbsp;&nbsp;&nbsp; b) How it Works <br>\n",
    "5) <b>Exercises</b> <br>\n",
    " &nbsp;&nbsp;&nbsp;&nbsp; a) Exercise #1 - Reverse a List in Place Using an In-Place Algorithm <br>\n",
    " &nbsp;&nbsp;&nbsp;&nbsp; b) Exercise #2 - Find Distinct Words <br>\n",
    " &nbsp;&nbsp;&nbsp;&nbsp; c) Exercise #3 - Write a program to implement a Linear Search Algorithm. <br>"
   ]
  },
  {
   "cell_type": "markdown",
   "metadata": {},
   "source": [
    "## In-Place Algorithms"
   ]
  },
  {
   "cell_type": "markdown",
   "metadata": {},
   "source": [
    "#### Syntax"
   ]
  },
  {
   "cell_type": "code",
   "execution_count": 2,
   "metadata": {},
   "outputs": [
    {
     "data": {
      "text/plain": [
       "[15, 10, 15]"
      ]
     },
     "execution_count": 2,
     "metadata": {},
     "output_type": "execute_result"
    }
   ],
   "source": [
    "a_list = [5, 10, 15]\n",
    "\n",
    "def swap(lst):\n",
    "    temp = lst[0]\n",
    "    lst[0] = lst [2]\n",
    "    lst[2] = lst [0]\n",
    "    return lst\n",
    "\n",
    "swap (a_list)"
   ]
  },
  {
   "cell_type": "code",
   "execution_count": 5,
   "metadata": {},
   "outputs": [
    {
     "data": {
      "text/plain": [
       "[3, 2, 1]"
      ]
     },
     "execution_count": 5,
     "metadata": {},
     "output_type": "execute_result"
    }
   ],
   "source": [
    "def swap2(lst):\n",
    "    lst[0], lst[2] = lst[2], lst[0]\n",
    "    return lst\n",
    "\n",
    "swap2([1,2,3])"
   ]
  },
  {
   "cell_type": "markdown",
   "metadata": {},
   "source": [
    "#### Out of Place Algorithm"
   ]
  },
  {
   "cell_type": "code",
   "execution_count": 4,
   "metadata": {},
   "outputs": [
    {
     "data": {
      "text/plain": [
       "[3, 2, 1]"
      ]
     },
     "execution_count": 4,
     "metadata": {},
     "output_type": "execute_result"
    }
   ],
   "source": [
    "\n"
   ]
  },
  {
   "cell_type": "markdown",
   "metadata": {},
   "source": [
    "#### In-Class Exercise #1 <br>\n",
    "<p>Write a function that takes in four arguments (list, index1, index2, index3), and swaps those three positions in the list passed in.</p>"
   ]
  },
  {
   "cell_type": "code",
   "execution_count": 11,
   "metadata": {},
   "outputs": [
    {
     "ename": "NameError",
     "evalue": "name 'index' is not defined",
     "output_type": "error",
     "traceback": [
      "\u001b[0;31m---------------------------------------------------------------------------\u001b[0m",
      "\u001b[0;31mNameError\u001b[0m                                 Traceback (most recent call last)",
      "\u001b[0;32m<ipython-input-11-75c358658add>\u001b[0m in \u001b[0;36m<module>\u001b[0;34m\u001b[0m\n\u001b[1;32m      3\u001b[0m \u001b[0;32mdef\u001b[0m \u001b[0mexercise\u001b[0m\u001b[0;34m(\u001b[0m\u001b[0mlst\u001b[0m\u001b[0;34m,\u001b[0m \u001b[0mindex1\u001b[0m\u001b[0;34m,\u001b[0m \u001b[0mindex2\u001b[0m\u001b[0;34m,\u001b[0m \u001b[0mindex3\u001b[0m\u001b[0;34m)\u001b[0m\u001b[0;34m:\u001b[0m\u001b[0;34m\u001b[0m\u001b[0;34m\u001b[0m\u001b[0m\n\u001b[1;32m      4\u001b[0m     \u001b[0mlst\u001b[0m\u001b[0;34m[\u001b[0m\u001b[0mindex1\u001b[0m\u001b[0;34m]\u001b[0m\u001b[0;34m,\u001b[0m \u001b[0mlst\u001b[0m\u001b[0;34m[\u001b[0m\u001b[0mindex2\u001b[0m\u001b[0;34m]\u001b[0m\u001b[0;34m,\u001b[0m \u001b[0mlst\u001b[0m\u001b[0;34m[\u001b[0m\u001b[0mindex3\u001b[0m\u001b[0;34m]\u001b[0m \u001b[0;34m=\u001b[0m \u001b[0mlst\u001b[0m\u001b[0;34m[\u001b[0m\u001b[0mindex2\u001b[0m\u001b[0;34m]\u001b[0m\u001b[0;34m,\u001b[0m\u001b[0mlst\u001b[0m\u001b[0;34m[\u001b[0m\u001b[0mindex3\u001b[0m\u001b[0;34m]\u001b[0m\u001b[0;34m,\u001b[0m \u001b[0mlst\u001b[0m\u001b[0;34m[\u001b[0m\u001b[0mindex1\u001b[0m\u001b[0;34m]\u001b[0m\u001b[0;34m\u001b[0m\u001b[0;34m\u001b[0m\u001b[0m\n\u001b[0;32m----> 5\u001b[0;31m \u001b[0mprint\u001b[0m\u001b[0;34m(\u001b[0m\u001b[0mindex\u001b[0m\u001b[0;34m(\u001b[0m\u001b[0ml_1\u001b[0m\u001b[0;34m)\u001b[0m\u001b[0;34m)\u001b[0m\u001b[0;34m\u001b[0m\u001b[0;34m\u001b[0m\u001b[0m\n\u001b[0m\u001b[1;32m      6\u001b[0m \u001b[0mprint\u001b[0m\u001b[0;34m(\u001b[0m\u001b[0ml_1\u001b[0m\u001b[0;34m)\u001b[0m\u001b[0;34m\u001b[0m\u001b[0;34m\u001b[0m\u001b[0m\n\u001b[1;32m      7\u001b[0m \u001b[0mexercise\u001b[0m\u001b[0;34m(\u001b[0m\u001b[0ml_1\u001b[0m\u001b[0;34m,\u001b[0m \u001b[0;36m0\u001b[0m\u001b[0;34m,\u001b[0m \u001b[0;36m2\u001b[0m\u001b[0;34m,\u001b[0m \u001b[0;36m4\u001b[0m\u001b[0;34m)\u001b[0m\u001b[0;34m\u001b[0m\u001b[0;34m\u001b[0m\u001b[0m\n",
      "\u001b[0;31mNameError\u001b[0m: name 'index' is not defined"
     ]
    }
   ],
   "source": [
    "l_1 = [10, 4, 3, 8, 4, 2, 6]\n",
    "#output l_new = [6,2,4,8,3,4,10]\n",
    "def exercise(lst, index1, index2, index3):\n",
    "    lst[index1], lst[index2], lst[index3] = lst[index2],lst[index3], lst[index1]\n",
    "\n",
    "print(l_1)\n",
    "exercise(l_1, 0, 2, 4)\n",
    "print(l_1)\n",
    "\n",
    "\n",
    "\n"
   ]
  },
  {
   "cell_type": "markdown",
   "metadata": {},
   "source": [
    "## Two Pointers"
   ]
  },
  {
   "cell_type": "markdown",
   "metadata": {},
   "source": [
    "#### Syntax"
   ]
  },
  {
   "cell_type": "code",
   "execution_count": 14,
   "metadata": {},
   "outputs": [
    {
     "data": {
      "text/plain": [
       "[10, 9, 8, 7, 6, 5, 4, 3, 2, 1]"
      ]
     },
     "execution_count": 14,
     "metadata": {},
     "output_type": "execute_result"
    }
   ],
   "source": [
    "def twoPointers(alist):\n",
    "    # Creating pointers for the list below:\n",
    "    left = 0\n",
    "    right = len(alist) - 1\n",
    "    while left <= right:\n",
    "        alist[left], alist[right] = alist[right],alist[left]\n",
    "        left += 1\n",
    "        right -= 1\n",
    "    return alist\n",
    "\n",
    "my_new_list = [1,2,3,4,5,6,7,8,9,10]\n",
    "twoPointers(my_new_list)"
   ]
  },
  {
   "cell_type": "markdown",
   "metadata": {},
   "source": [
    "#### Video of Algorithms <br>\n",
    "<p>Watch the video about algorithms.</p>\n",
    "\n",
    "https://www.youtube.com/watch?v=Q9HjeFD62Uk\n",
    "\n",
    "https://www.youtube.com/watch?v=kPRA0W1kECg\n",
    "\n",
    "https://www.youtube.com/watch?v=ZZuD6iUe3Pc"
   ]
  },
  {
   "cell_type": "markdown",
   "metadata": {},
   "source": [
    "# Sorting Algorithms"
   ]
  },
  {
   "cell_type": "code",
   "execution_count": null,
   "metadata": {},
   "outputs": [],
   "source": []
  },
  {
   "cell_type": "markdown",
   "metadata": {},
   "source": [
    "#### Bubble Sort\n",
    "\n",
    "Worst Case: O(n^2) Time - O(1) Space"
   ]
  },
  {
   "cell_type": "code",
   "execution_count": null,
   "metadata": {},
   "outputs": [],
   "source": [
    "def bubble_sort(alist):\n",
    "    is_sorted = False\n",
    "    while not is sorted:\n",
    "        is_sorted = True"
   ]
  },
  {
   "cell_type": "markdown",
   "metadata": {},
   "source": [
    "##### Insertion Sort\n",
    "\n",
    "Worst Case: O(n^2) time - O(1)space"
   ]
  },
  {
   "cell_type": "code",
   "execution_count": 15,
   "metadata": {},
   "outputs": [
    {
     "data": {
      "text/plain": [
       "[1, 22, 34, 44, 55, 66, 88, 100]"
      ]
     },
     "execution_count": 15,
     "metadata": {},
     "output_type": "execute_result"
    }
   ],
   "source": [
    "def swap(i,j,array):\n",
    "    array[i],array[j] = array[j],array[i]\n",
    "    \n",
    "def insertionSort(array):\n",
    "    #loops through starting the second element to the end of the list(assume first element is sorted)\n",
    "    for i in range(1,len(array)):\n",
    "        j = i\n",
    "        # continue swaping until alist[j] is greater than alist[j-1] or you get to the ffront of the list\n",
    "        while j > 0 and array[j] < array[j - 1]:\n",
    "            swap(j, j - 1, array)\n",
    "            j -= 1\n",
    "    return array\n",
    "\n",
    "insertionSort([22,55,88,44,1,100,34,66])"
   ]
  },
  {
   "cell_type": "markdown",
   "metadata": {},
   "source": [
    "## Merge Sort"
   ]
  },
  {
   "cell_type": "markdown",
   "metadata": {},
   "source": [
    "#### How it Works"
   ]
  },
  {
   "cell_type": "code",
   "execution_count": 21,
   "metadata": {},
   "outputs": [
    {
     "name": "stdout",
     "output_type": "stream",
     "text": [
      "Splitting... [22, 55, 88, 44, 1, 100, 34, 66]\n",
      "Splitting... [22, 55, 88, 44]\n",
      "Splitting... [22, 55]\n",
      "Splitting... [22]\n",
      "Merging... [22]\n",
      "Splitting... [55]\n",
      "Merging... [55]\n",
      "Merging... [22, 55]\n",
      "Splitting... [88, 44]\n",
      "Splitting... [88]\n",
      "Merging... [88]\n",
      "Splitting... [44]\n",
      "Merging... [44]\n",
      "Merging... [44, 88]\n",
      "Merging... [22, 44, 55, 88]\n",
      "Splitting... [1, 100, 34, 66]\n",
      "Splitting... [1, 100]\n",
      "Splitting... [1]\n",
      "Merging... [1]\n",
      "Splitting... [100]\n",
      "Merging... [100]\n",
      "Merging... [1, 100]\n",
      "Splitting... [34, 66]\n",
      "Splitting... [34]\n",
      "Merging... [34]\n",
      "Splitting... [66]\n",
      "Merging... [66]\n",
      "Merging... [34, 66]\n",
      "Merging... [1, 34, 66, 100]\n",
      "Merging... [1, 22, 34, 44, 55, 66, 88, 100]\n"
     ]
    },
    {
     "data": {
      "text/plain": [
       "[1, 22, 34, 44, 55, 66, 88, 100]"
      ]
     },
     "execution_count": 21,
     "metadata": {},
     "output_type": "execute_result"
    }
   ],
   "source": [
    "def merge_sort(alist):\n",
    "    print(\"Splitting...\", alist)\n",
    "    \n",
    "    #Divide array into even parts\n",
    "    \n",
    "    if len (alist)>1:\n",
    "        mid = len(alist)//2\n",
    "        left_half = alist[:mid]\n",
    "        right_half = alist[mid:]\n",
    "        \n",
    "        #recursively call merge_sort on left and right halves\n",
    "        merge_sort(left_half)\n",
    "        merge_sort(right_half)\n",
    "        #merge splits after complete,\n",
    "        i = 0 # pointer for left half\n",
    "        j = 0 # pointer for right half\n",
    "        k = 0 # pointer for main array\n",
    "        \n",
    "        while i< len(left_half) and j<len(right_half):\n",
    "            if left_half[i] < right_half[j]:\n",
    "                alist[k] = left_half[i]\n",
    "                i += 1\n",
    "            else:\n",
    "                alist[k] = right_half[j]\n",
    "                j +=1\n",
    "            k += 1\n",
    "        while i < len(left_half):\n",
    "            alist[k] = left_half[i]\n",
    "            i +=1 \n",
    "            k += 1\n",
    "        while j < len(right_half):\n",
    "            alist[k] = right_half[j]\n",
    "            j +=1 \n",
    "            k += 1\n",
    "            \n",
    "    print(\"Merging...\", alist)\n",
    "    return alist\n",
    "\n",
    "\n",
    "merge_sort(([22,55,88,44,1,100,34,66]))"
   ]
  },
  {
   "cell_type": "markdown",
   "metadata": {},
   "source": [
    "# Binary Search\n",
    "\n",
    "The Binary Search algorithm works by finding the number in the middle of a given array and comparing it to the target. Given that the array is sorted\n",
    "\n",
    "* The worst case run time for this algorithm is `O(log(n))`"
   ]
  },
  {
   "cell_type": "code",
   "execution_count": 31,
   "metadata": {},
   "outputs": [
    {
     "data": {
      "text/plain": [
       "-1"
      ]
     },
     "execution_count": 31,
     "metadata": {},
     "output_type": "execute_result"
    }
   ],
   "source": [
    "def binarysearch (alist, target):\n",
    "    low = 0\n",
    "    high = len(alist) - 1\n",
    "    while (low<=high):\n",
    "        mid = (low + high)//2\n",
    "        if (alist[mid] == target):\n",
    "            return mid\n",
    "        elif (alist[mid]<target):\n",
    "            low =mid+1\n",
    "        else:\n",
    "            high = mid-1\n",
    "    return -1\n",
    "binarysearch (([22,55,88,44,1,100,34,66]), 88)"
   ]
  },
  {
   "cell_type": "markdown",
   "metadata": {},
   "source": [
    "# Exercises"
   ]
  },
  {
   "cell_type": "markdown",
   "metadata": {},
   "source": [
    "### Exercise #1 <br>\n",
    "<p>Reverse the list below in-place using an in-place algorithm.<br>For extra credit: Reverse the strings at the same time.</p>"
   ]
  },
  {
   "cell_type": "code",
   "execution_count": 130,
   "metadata": {},
   "outputs": [
    {
     "data": {
      "text/plain": [
       "['.', 'sentence', 'a', 'is', 'this']"
      ]
     },
     "execution_count": 130,
     "metadata": {},
     "output_type": "execute_result"
    }
   ],
   "source": [
    "words = ['this' , 'is', 'a', 'sentence', '.']\n",
    "\n",
    "def swap(lst):\n",
    "    temp = lst[0]\n",
    "    temp1 = lst[1] \n",
    "    lst[0] = lst[4]\n",
    "    lst[1] = lst[3]\n",
    "    lst[3] = temp1\n",
    "    lst[4] = temp\n",
    "    return lst\n",
    "\n",
    "swap(words)\n"
   ]
  },
  {
   "cell_type": "code",
   "execution_count": 147,
   "metadata": {},
   "outputs": [
    {
     "data": {
      "text/plain": [
       "['.', 'ecnetnes', 'a', 'si', 'siht']"
      ]
     },
     "execution_count": 147,
     "metadata": {},
     "output_type": "execute_result"
    }
   ],
   "source": [
    "#for reversing each word\n",
    "words = ['this' , 'is', 'a', 'sentence', '.']\n",
    "\n",
    "def swap(lst):\n",
    "    temp = lst[0][-1::-1]\n",
    "    temp1 = lst[1] [-1::-1]\n",
    "    lst[0] = lst[4][-1::-1]\n",
    "    lst[1] = lst[3][-1::-1]\n",
    "    lst[3] = temp1\n",
    "    lst[4] = temp\n",
    "    return lst\n",
    "\n",
    "swap(words)"
   ]
  },
  {
   "cell_type": "code",
   "execution_count": 146,
   "metadata": {},
   "outputs": [
    {
     "ename": "TypeError",
     "evalue": "list indices must be integers or slices, not str",
     "output_type": "error",
     "traceback": [
      "\u001b[0;31m---------------------------------------------------------------------------\u001b[0m",
      "\u001b[0;31mTypeError\u001b[0m                                 Traceback (most recent call last)",
      "\u001b[0;32m<ipython-input-146-f1c691514939>\u001b[0m in \u001b[0;36m<module>\u001b[0;34m\u001b[0m\n\u001b[1;32m      7\u001b[0m         \u001b[0mprint\u001b[0m\u001b[0;34m(\u001b[0m\u001b[0minverted_word\u001b[0m\u001b[0;34m)\u001b[0m\u001b[0;34m\u001b[0m\u001b[0;34m\u001b[0m\u001b[0m\n\u001b[1;32m      8\u001b[0m \u001b[0;34m\u001b[0m\u001b[0m\n\u001b[0;32m----> 9\u001b[0;31m \u001b[0minversion\u001b[0m\u001b[0;34m(\u001b[0m\u001b[0mwords\u001b[0m\u001b[0;34m)\u001b[0m\u001b[0;34m\u001b[0m\u001b[0;34m\u001b[0m\u001b[0m\n\u001b[0m",
      "\u001b[0;32m<ipython-input-146-f1c691514939>\u001b[0m in \u001b[0;36minversion\u001b[0;34m(lst)\u001b[0m\n\u001b[1;32m      3\u001b[0m \u001b[0;32mdef\u001b[0m \u001b[0minversion\u001b[0m\u001b[0;34m(\u001b[0m\u001b[0mlst\u001b[0m\u001b[0;34m)\u001b[0m\u001b[0;34m:\u001b[0m\u001b[0;34m\u001b[0m\u001b[0;34m\u001b[0m\u001b[0m\n\u001b[1;32m      4\u001b[0m     \u001b[0;32mfor\u001b[0m \u001b[0mx\u001b[0m \u001b[0;32min\u001b[0m \u001b[0mlst\u001b[0m\u001b[0;34m:\u001b[0m\u001b[0;34m\u001b[0m\u001b[0;34m\u001b[0m\u001b[0m\n\u001b[0;32m----> 5\u001b[0;31m         \u001b[0msequence\u001b[0m \u001b[0;34m=\u001b[0m \u001b[0;34m(\u001b[0m\u001b[0mlst\u001b[0m\u001b[0;34m[\u001b[0m\u001b[0mx\u001b[0m\u001b[0;34m]\u001b[0m\u001b[0;34m)\u001b[0m\u001b[0;34m\u001b[0m\u001b[0;34m\u001b[0m\u001b[0m\n\u001b[0m\u001b[1;32m      6\u001b[0m         \u001b[0minverted_word\u001b[0m \u001b[0;34m=\u001b[0m \u001b[0msequence\u001b[0m\u001b[0;34m[\u001b[0m\u001b[0;34m-\u001b[0m\u001b[0;36m1\u001b[0m\u001b[0;34m:\u001b[0m\u001b[0;34m:\u001b[0m\u001b[0;34m-\u001b[0m\u001b[0;36m1\u001b[0m\u001b[0;34m]\u001b[0m\u001b[0;34m\u001b[0m\u001b[0;34m\u001b[0m\u001b[0m\n\u001b[1;32m      7\u001b[0m         \u001b[0mprint\u001b[0m\u001b[0;34m(\u001b[0m\u001b[0minverted_word\u001b[0m\u001b[0;34m)\u001b[0m\u001b[0;34m\u001b[0m\u001b[0;34m\u001b[0m\u001b[0m\n",
      "\u001b[0;31mTypeError\u001b[0m: list indices must be integers or slices, not str"
     ]
    }
   ],
   "source": [
    "#for reversing each word\n",
    "words = ['this' , 'is', 'a', 'sentence', '.']\n",
    "def inversion(lst):\n",
    "    for x in lst:\n",
    "        sequence = (lst[x])\n",
    "        inverted_word = sequence[-1::-1]\n",
    "        print(inverted_word)\n",
    "\n",
    "inversion(words)\n"
   ]
  },
  {
   "cell_type": "markdown",
   "metadata": {},
   "source": [
    "### Exercise #2 <br>\n",
    "<p>Create a function that counts how many distinct words are in the string below, then outputs a dictionary with the words as the key and the value as the amount of times that word appears in the string.<br>Should output:<br>{'a': 5,<br>\n",
    " 'abstract': 1,<br>\n",
    " 'an': 3,<br>\n",
    " 'array': 2, ... etc...</p>"
   ]
  },
  {
   "cell_type": "code",
   "execution_count": 111,
   "metadata": {},
   "outputs": [
    {
     "name": "stdout",
     "output_type": "stream",
     "text": [
      "{'a': 5, 'abstract': 1, 'an': 3, 'array': 2, 'associative': 1, 'be': 1, 'buckets': 1, 'can': 2, 'compute': 1, 'computing,': 1, 'data': 2, 'desired': 1, 'found': 1, 'from': 1, 'function': 1, 'hash': 4, 'implements': 1, 'in': 1, 'index': 1, 'into': 1, 'is': 1, 'keys': 1, 'map': 2, 'of': 1, 'or': 1, 'slots': 1, 'structure': 2, 'table': 2, 'that': 1, 'the': 1, 'to': 2, 'type,': 1, 'uses': 1, 'value': 1, 'values.': 1, 'which': 2}\n"
     ]
    }
   ],
   "source": [
    "a_text = 'In computing, a hash table hash map is a data structure which implements an associative array abstract data type, a structure that can map keys to values. A hash table uses a hash function to compute an index into an array of buckets or slots from which the desired value can be found'\n",
    "def swap(i,j, array):\n",
    "    array[i],array[j] = array[j],array[i]\n",
    "    \n",
    "def bubble_sort(array):\n",
    "    isSorted = False\n",
    "    while not isSorted:\n",
    "        isSorted = True\n",
    "        for num in range(len(array) - 1):\n",
    "            if array[num] > array[num + 1]:\n",
    "                swap(num, num + 1, array)\n",
    "                isSorted = False\n",
    "    return array\n",
    "\n",
    "\n",
    "def count_words(lst):\n",
    "    lower_lst = str.lower(lst)\n",
    "    words = str.split(lower_lst)\n",
    "    bubble_sort(words)\n",
    "    counts = {}\n",
    "    for x in words:\n",
    "        if x in counts:\n",
    "            counts[x] = counts[x] + 1\n",
    "        else:\n",
    "            counts[x] = 1\n",
    "    print(counts)\n",
    "\n",
    "    \n",
    "    \n",
    "count_words(a_text)\n"
   ]
  },
  {
   "cell_type": "code",
   "execution_count": 109,
   "metadata": {},
   "outputs": [
    {
     "name": "stdout",
     "output_type": "stream",
     "text": [
      "['in', 'computing,', 'a', 'hash', 'table', 'hash', 'map', 'is', 'a', 'data', 'structure', 'which', 'implements', 'an', 'associative', 'array', 'abstract', 'data', 'type,', 'a', 'structure', 'that', 'can', 'map', 'keys', 'to', 'values.', 'a', 'hash', 'table', 'uses', 'a', 'hash', 'function', 'to', 'compute', 'an', 'index', 'into', 'an', 'array', 'of', 'buckets', 'or', 'slots', 'from', 'which', 'the', 'desired', 'value', 'can', 'be', 'found']\n"
     ]
    }
   ],
   "source": [
    "a_text = 'In computing, a hash table hash map is a data structure which implements an associative array abstract data type, a structure that can map keys to values. A hash table uses a hash function to compute an index into an array of buckets or slots from which the desired value can be found'\n",
    "def count_words(lst):\n",
    "    lower_lst = str.lower(lst)\n",
    "    words = str.split(lower_lst)\n",
    "    print(words)\n",
    "    #for x in words:\n",
    "    #    counts = dict()\n",
    "    #    if x in counts:\n",
    "    #        counts[x] = counts[x] + 1\n",
    "    #    else:\n",
    "    #        counts[x] = 1\n",
    "    #print(counts)\n",
    "        \n",
    "    \n",
    "    \n",
    "count_words(a_text)\n"
   ]
  },
  {
   "cell_type": "code",
   "execution_count": null,
   "metadata": {},
   "outputs": [],
   "source": []
  },
  {
   "cell_type": "markdown",
   "metadata": {},
   "source": [
    "## Exercise #3\n",
    "\n",
    "Write a program to implement a Linear Search Algorithm. Also in a comment, write the Time Complexity of the following algorithm.\n",
    "\n",
    "#### Hint: Linear Searching will require searching a list for a given number. \n",
    "time complexity add"
   ]
  },
  {
   "cell_type": "code",
   "execution_count": 152,
   "metadata": {},
   "outputs": [
    {
     "data": {
      "text/plain": [
       "6"
      ]
     },
     "execution_count": 152,
     "metadata": {},
     "output_type": "execute_result"
    }
   ],
   "source": [
    "def linear_search(a_list, target):\n",
    "    low = 0\n",
    "    high = len(a_list) -1\n",
    "    while(low<=high):\n",
    "        if (a_list[low]) == target:\n",
    "            return low\n",
    "        else:\n",
    "            low+=1\n",
    "    return -1\n",
    "\n",
    "linear_search (([22,55,88,44,1,100,34,66]), 34)\n",
    "#Time complexity: if n is the number of values, O(n)"
   ]
  },
  {
   "cell_type": "code",
   "execution_count": null,
   "metadata": {},
   "outputs": [],
   "source": []
  }
 ],
 "metadata": {
  "kernelspec": {
   "display_name": "Python 3",
   "language": "python",
   "name": "python3"
  },
  "language_info": {
   "codemirror_mode": {
    "name": "ipython",
    "version": 3
   },
   "file_extension": ".py",
   "mimetype": "text/x-python",
   "name": "python",
   "nbconvert_exporter": "python",
   "pygments_lexer": "ipython3",
   "version": "3.8.8"
  }
 },
 "nbformat": 4,
 "nbformat_minor": 2
}
